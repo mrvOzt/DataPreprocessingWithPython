{
 "cells": [
  {
   "cell_type": "code",
   "execution_count": 1,
   "id": "09d90d3a",
   "metadata": {},
   "outputs": [
    {
     "data": {
      "text/html": [
       "<div>\n",
       "<style scoped>\n",
       "    .dataframe tbody tr th:only-of-type {\n",
       "        vertical-align: middle;\n",
       "    }\n",
       "\n",
       "    .dataframe tbody tr th {\n",
       "        vertical-align: top;\n",
       "    }\n",
       "\n",
       "    .dataframe thead th {\n",
       "        text-align: right;\n",
       "    }\n",
       "</style>\n",
       "<table border=\"1\" class=\"dataframe\">\n",
       "  <thead>\n",
       "    <tr style=\"text-align: right;\">\n",
       "      <th></th>\n",
       "      <th>UDI</th>\n",
       "      <th>Product ID</th>\n",
       "      <th>Type</th>\n",
       "      <th>Air temperature [K]</th>\n",
       "      <th>Process temperature [K]</th>\n",
       "      <th>Rotational speed [rpm]</th>\n",
       "      <th>Torque [Nm]</th>\n",
       "      <th>Tool wear [min]</th>\n",
       "      <th>Machine failure</th>\n",
       "      <th>TWF</th>\n",
       "      <th>HDF</th>\n",
       "      <th>PWF</th>\n",
       "      <th>OSF</th>\n",
       "      <th>RNF</th>\n",
       "    </tr>\n",
       "  </thead>\n",
       "  <tbody>\n",
       "    <tr>\n",
       "      <th>0</th>\n",
       "      <td>1</td>\n",
       "      <td>M14860</td>\n",
       "      <td>M</td>\n",
       "      <td>298.1</td>\n",
       "      <td>308.6</td>\n",
       "      <td>1551</td>\n",
       "      <td>42.8</td>\n",
       "      <td>0</td>\n",
       "      <td>0</td>\n",
       "      <td>0</td>\n",
       "      <td>0</td>\n",
       "      <td>0</td>\n",
       "      <td>0</td>\n",
       "      <td>0</td>\n",
       "    </tr>\n",
       "    <tr>\n",
       "      <th>1</th>\n",
       "      <td>2</td>\n",
       "      <td>L47181</td>\n",
       "      <td>L</td>\n",
       "      <td>298.2</td>\n",
       "      <td>308.7</td>\n",
       "      <td>1408</td>\n",
       "      <td>46.3</td>\n",
       "      <td>3</td>\n",
       "      <td>0</td>\n",
       "      <td>0</td>\n",
       "      <td>0</td>\n",
       "      <td>0</td>\n",
       "      <td>0</td>\n",
       "      <td>0</td>\n",
       "    </tr>\n",
       "    <tr>\n",
       "      <th>2</th>\n",
       "      <td>3</td>\n",
       "      <td>L47182</td>\n",
       "      <td>L</td>\n",
       "      <td>298.1</td>\n",
       "      <td>308.5</td>\n",
       "      <td>1498</td>\n",
       "      <td>49.4</td>\n",
       "      <td>5</td>\n",
       "      <td>0</td>\n",
       "      <td>0</td>\n",
       "      <td>0</td>\n",
       "      <td>0</td>\n",
       "      <td>0</td>\n",
       "      <td>0</td>\n",
       "    </tr>\n",
       "    <tr>\n",
       "      <th>3</th>\n",
       "      <td>4</td>\n",
       "      <td>L47183</td>\n",
       "      <td>L</td>\n",
       "      <td>298.2</td>\n",
       "      <td>308.6</td>\n",
       "      <td>1433</td>\n",
       "      <td>39.5</td>\n",
       "      <td>7</td>\n",
       "      <td>0</td>\n",
       "      <td>0</td>\n",
       "      <td>0</td>\n",
       "      <td>0</td>\n",
       "      <td>0</td>\n",
       "      <td>0</td>\n",
       "    </tr>\n",
       "    <tr>\n",
       "      <th>4</th>\n",
       "      <td>5</td>\n",
       "      <td>L47184</td>\n",
       "      <td>L</td>\n",
       "      <td>298.2</td>\n",
       "      <td>308.7</td>\n",
       "      <td>1408</td>\n",
       "      <td>40.0</td>\n",
       "      <td>9</td>\n",
       "      <td>0</td>\n",
       "      <td>0</td>\n",
       "      <td>0</td>\n",
       "      <td>0</td>\n",
       "      <td>0</td>\n",
       "      <td>0</td>\n",
       "    </tr>\n",
       "  </tbody>\n",
       "</table>\n",
       "</div>"
      ],
      "text/plain": [
       "   UDI Product ID Type  Air temperature [K]  Process temperature [K]  \\\n",
       "0    1     M14860    M                298.1                    308.6   \n",
       "1    2     L47181    L                298.2                    308.7   \n",
       "2    3     L47182    L                298.1                    308.5   \n",
       "3    4     L47183    L                298.2                    308.6   \n",
       "4    5     L47184    L                298.2                    308.7   \n",
       "\n",
       "   Rotational speed [rpm]  Torque [Nm]  Tool wear [min]  Machine failure  TWF  \\\n",
       "0                    1551         42.8                0                0    0   \n",
       "1                    1408         46.3                3                0    0   \n",
       "2                    1498         49.4                5                0    0   \n",
       "3                    1433         39.5                7                0    0   \n",
       "4                    1408         40.0                9                0    0   \n",
       "\n",
       "   HDF  PWF  OSF  RNF  \n",
       "0    0    0    0    0  \n",
       "1    0    0    0    0  \n",
       "2    0    0    0    0  \n",
       "3    0    0    0    0  \n",
       "4    0    0    0    0  "
      ]
     },
     "execution_count": 1,
     "metadata": {},
     "output_type": "execute_result"
    }
   ],
   "source": [
    "import seaborn as sns\n",
    "import pandas as pd\n",
    "import matplotlib.pyplot as plt\n",
    "from scipy.stats import chi2_contingency\n",
    "df = pd.read_csv('ai4i2020.csv')\n",
    "df.head(5)"
   ]
  },
  {
   "cell_type": "code",
   "execution_count": 2,
   "id": "ca46c9d9",
   "metadata": {},
   "outputs": [
    {
     "name": "stdout",
     "output_type": "stream",
     "text": [
      "<class 'pandas.core.frame.DataFrame'>\n",
      "RangeIndex: 10000 entries, 0 to 9999\n",
      "Data columns (total 14 columns):\n",
      " #   Column                   Non-Null Count  Dtype  \n",
      "---  ------                   --------------  -----  \n",
      " 0   UDI                      10000 non-null  int64  \n",
      " 1   Product ID               10000 non-null  object \n",
      " 2   Type                     10000 non-null  object \n",
      " 3   Air temperature [K]      10000 non-null  float64\n",
      " 4   Process temperature [K]  10000 non-null  float64\n",
      " 5   Rotational speed [rpm]   10000 non-null  int64  \n",
      " 6   Torque [Nm]              10000 non-null  float64\n",
      " 7   Tool wear [min]          10000 non-null  int64  \n",
      " 8   Machine failure          10000 non-null  int64  \n",
      " 9   TWF                      10000 non-null  int64  \n",
      " 10  HDF                      10000 non-null  int64  \n",
      " 11  PWF                      10000 non-null  int64  \n",
      " 12  OSF                      10000 non-null  int64  \n",
      " 13  RNF                      10000 non-null  int64  \n",
      "dtypes: float64(3), int64(9), object(2)\n",
      "memory usage: 1.1+ MB\n"
     ]
    }
   ],
   "source": [
    "df.info()"
   ]
  },
  {
   "cell_type": "code",
   "execution_count": 3,
   "id": "8c7fcb24",
   "metadata": {},
   "outputs": [
    {
     "name": "stdout",
     "output_type": "stream",
     "text": [
      "                   Feature   Chi-Square        p-value\n",
      "4              Torque [Nm]  3526.615358   0.000000e+00\n",
      "3   Rotational speed [rpm]  2553.945201  3.843935e-149\n",
      "5          Tool wear [min]   889.304920   6.480426e-74\n",
      "1      Air temperature [K]   293.451717   7.079437e-23\n",
      "2  Process temperature [K]   140.366155   4.789922e-05\n",
      "0                     Type    13.751717   1.032411e-03\n"
     ]
    }
   ],
   "source": [
    "from scipy.stats import chi2_contingency\n",
    "# Assuming your dataset is stored in a pandas DataFrame called 'df'\n",
    "features = df.drop(['Machine failure','UDI','Product ID','HDF','OSF','PWF','TWF','RNF'], axis=1)  # Exclude the target variable\n",
    "target = df['Machine failure']\n",
    "chi2_scores, p_values = [], []\n",
    "for feature in features.columns:\n",
    "    contingency_table = pd.crosstab(features[feature], target)\n",
    "    chi2, p, _, _ = chi2_contingency(contingency_table)\n",
    "    chi2_scores.append(chi2)\n",
    "    p_values.append(p)\n",
    "result = pd.DataFrame({'Feature': features.columns, 'Chi-Square': chi2_scores, 'p-value': p_values})\n",
    "result = result.sort_values(by='Chi-Square', ascending=False)  # or by 'p-value'\n",
    "print(result)"
   ]
  },
  {
   "cell_type": "code",
   "execution_count": 4,
   "id": "8c94d645",
   "metadata": {},
   "outputs": [
    {
     "data": {
      "image/png": "[encoded data removed]",
      "text/plain": [
       "<Figure size 800x600 with 1 Axes>"
      ]
     },
     "metadata": {},
     "output_type": "display_data"
    },
    {
     "data": {
      "image/png": "[encoded data removed]",
      "text/plain": [
       "<Figure size 800x600 with 1 Axes>"
      ]
     },
     "metadata": {},
     "output_type": "display_data"
    },
    {
     "data": {
      "image/png": "[encoded data removed]",
      "text/plain": [
       "<Figure size 800x600 with 1 Axes>"
      ]
     },
     "metadata": {},
     "output_type": "display_data"
    },
    {
     "data": {
      "image/png": "[encoded data removed]",
      "text/plain": [
       "<Figure size 800x600 with 1 Axes>"
      ]
     },
     "metadata": {},
     "output_type": "display_data"
    }
   ],
   "source": [
    "\n",
    "# Bar plot: Machine failure vs. Type\n",
    "plt.figure(figsize=(8, 6))\n",
    "sns.barplot(x='Machine failure', y='Torque [Nm]', data=df)\n",
    "plt.title('Machine failure vs. Type')\n",
    "plt.show()\n",
    "\n",
    "# Box plot: Machine failure vs. Air temperature [K]\n",
    "plt.figure(figsize=(8, 6))\n",
    "sns.boxplot(x='Machine failure', y='Rotational speed [rpm]', data=df)\n",
    "plt.title('Machine failure vs. Air temperature [K]')\n",
    "plt.show()\n",
    "\n",
    "# Violin plot: Machine failure vs. Process temperature [K]\n",
    "plt.figure(figsize=(8, 6))\n",
    "sns.violinplot(x='Machine failure', y='Tool wear [min]', data=df)\n",
    "plt.title('Machine failure vs. Process temperature [K]')\n",
    "plt.show()\n",
    "\n",
    "# Bar plot: Machine failure vs. Type\n",
    "plt.figure(figsize=(8, 6))\n",
    "sns.barplot(x='Machine failure', y='Type', data=df)\n",
    "plt.title('Machine failure vs. Type')\n",
    "plt.show()\n"
   ]
  },
  {
   "cell_type": "code",
   "execution_count": null,
   "id": "b9b03e8f",
   "metadata": {},
   "outputs": [],
   "source": []
  },
  {
   "cell_type": "code",
   "execution_count": null,
   "id": "6cb0df44",
   "metadata": {},
   "outputs": [],
   "source": []
  },
  {
   "cell_type": "code",
   "execution_count": 5,
   "id": "754ddae2",
   "metadata": {},
   "outputs": [],
   "source": [
    "df_air = df[\"Air temperature [K]\"]"
   ]
  },
  {
   "cell_type": "code",
   "execution_count": 6,
   "id": "1387eeb1",
   "metadata": {},
   "outputs": [
    {
     "data": {
      "image/png": "[encoded data removed]",
      "text/plain": [
       "<Figure size 640x480 with 1 Axes>"
      ]
     },
     "metadata": {},
     "output_type": "display_data"
    }
   ],
   "source": [
    "sns.boxplot(x = df_air);"
   ]
  },
  {
   "cell_type": "code",
   "execution_count": 7,
   "id": "5d060331",
   "metadata": {},
   "outputs": [
    {
     "data": {
      "text/plain": [
       "Series([], Name: Air temperature [K], dtype: float64)"
      ]
     },
     "execution_count": 7,
     "metadata": {},
     "output_type": "execute_result"
    }
   ],
   "source": [
    "Q1 = df_air.quantile(0.25)\n",
    "Q3 = df_air.quantile(0.75);\n",
    "IQR = Q3 - Q1\n",
    "lower_limit = Q1 - 1.5 * IQR\n",
    "upper_limit = Q3 + 1.5 * IQR\n",
    "annomalies=(df_air < lower_limit ) | (df_air > upper_limit)\n",
    "#demekki bu attribute içerisinde aykırı değer yok \n",
    "df_air[annomalies]"
   ]
  },
  {
   "cell_type": "code",
   "execution_count": 8,
   "id": "4f9720ae",
   "metadata": {},
   "outputs": [
    {
     "data": {
      "image/png": "[encoded data removed]",
      "text/plain": [
       "<Figure size 640x480 with 1 Axes>"
      ]
     },
     "metadata": {},
     "output_type": "display_data"
    }
   ],
   "source": [
    "## process temperatrue için \n",
    "df_process = df[\"Process temperature [K]\"]\n",
    "sns.boxplot(x = df_process);"
   ]
  },
  {
   "cell_type": "code",
   "execution_count": 9,
   "id": "c208af79",
   "metadata": {},
   "outputs": [
    {
     "data": {
      "image/png": "[encoded data removed]",
      "text/plain": [
       "<Figure size 640x480 with 1 Axes>"
      ]
     },
     "metadata": {},
     "output_type": "display_data"
    }
   ],
   "source": [
    "df_rotational = df[\"Rotational speed [rpm]\"]\n",
    "sns.boxplot(x = df_rotational);"
   ]
  },
  {
   "cell_type": "code",
   "execution_count": 10,
   "id": "ab325391",
   "metadata": {},
   "outputs": [],
   "source": [
    "Q1 =df[\"Rotational speed [rpm]\"].quantile(0.25)\n",
    "Q3 = df[\"Rotational speed [rpm]\"].quantile(0.75)\n",
    "IQR = Q3 - Q1\n",
    "upper_limit= Q3 + 1.5 * IQR\n",
    "annomalies = df[\"Rotational speed [rpm]\"] > upper_limit\n",
    "df.loc[annomalies, \"Rotational speed [rpm]\"] = upper_limit\n",
    "df_rotational = df[\"Rotational speed [rpm]\"]"
   ]
  },
  {
   "cell_type": "code",
   "execution_count": 11,
   "id": "a0ceeb3d",
   "metadata": {},
   "outputs": [
    {
     "data": {
      "image/png": "[encoded data removed]",
      "text/plain": [
       "<Figure size 640x480 with 1 Axes>"
      ]
     },
     "metadata": {},
     "output_type": "display_data"
    }
   ],
   "source": [
    "sns.boxplot(x = df_rotational);"
   ]
  },
  {
   "cell_type": "code",
   "execution_count": 12,
   "id": "f745e891",
   "metadata": {},
   "outputs": [
    {
     "data": {
      "image/png": "[encoded data removed]",
      "text/plain": [
       "<Figure size 640x480 with 1 Axes>"
      ]
     },
     "metadata": {},
     "output_type": "display_data"
    }
   ],
   "source": [
    "df_torque = df[\"Torque [Nm]\"]\n",
    "sns.boxplot(x = df_torque);"
   ]
  },
  {
   "cell_type": "code",
   "execution_count": 13,
   "id": "4ad03ae5",
   "metadata": {},
   "outputs": [
    {
     "data": {
      "image/png": "[encoded data removed]",
      "text/plain": [
       "<Figure size 640x480 with 1 Axes>"
      ]
     },
     "metadata": {},
     "output_type": "display_data"
    }
   ],
   "source": [
    "Q1 =df[\"Torque [Nm]\"].quantile(0.25)\n",
    "Q3 = df[\"Torque [Nm]\"].quantile(0.75)\n",
    "IQR = Q3 - Q1\n",
    "lower_limit = Q1 - 1.5 * IQR\n",
    "upper_limit= Q3 + 1.5 * IQR\n",
    "lower_annomalies = df[\"Torque [Nm]\"] < lower_limit\n",
    "upper_annomalies = df[\"Torque [Nm]\"] > upper_limit\n",
    "df.loc[lower_annomalies, \"Torque [Nm]\"] = lower_limit\n",
    "df.loc[upper_annomalies, \"Torque [Nm]\"] = upper_limit\n",
    "df_torque = df[\"Torque [Nm]\"]\n",
    "sns.boxplot(x = df_torque);"
   ]
  },
  {
   "cell_type": "code",
   "execution_count": 14,
   "id": "eb2921b4",
   "metadata": {},
   "outputs": [
    {
     "data": {
      "image/png": "[encoded data removed]",
      "text/plain": [
       "<Figure size 640x480 with 1 Axes>"
      ]
     },
     "metadata": {},
     "output_type": "display_data"
    }
   ],
   "source": [
    "#Anomali yok \n",
    "df_tool = df[\"Tool wear [min]\"]\n",
    "sns.boxplot(x = df_tool);"
   ]
  },
  {
   "cell_type": "code",
   "execution_count": 15,
   "id": "21645cfa",
   "metadata": {},
   "outputs": [],
   "source": [
    "### Label Encoder Method"
   ]
  },
  {
   "cell_type": "code",
   "execution_count": 16,
   "id": "4e403e7b",
   "metadata": {},
   "outputs": [],
   "source": [
    "\n",
    "from sklearn.preprocessing import LabelEncoder\n",
    "lbe = LabelEncoder()\n",
    "df[\"Encoded Type\"] = lbe.fit_transform(df[\"Type\"])"
   ]
  },
  {
   "cell_type": "code",
   "execution_count": 17,
   "id": "7f8ab454",
   "metadata": {},
   "outputs": [
    {
     "data": {
      "text/html": [
       "<div>\n",
       "<style scoped>\n",
       "    .dataframe tbody tr th:only-of-type {\n",
       "        vertical-align: middle;\n",
       "    }\n",
       "\n",
       "    .dataframe tbody tr th {\n",
       "        vertical-align: top;\n",
       "    }\n",
       "\n",
       "    .dataframe thead th {\n",
       "        text-align: right;\n",
       "    }\n",
       "</style>\n",
       "<table border=\"1\" class=\"dataframe\">\n",
       "  <thead>\n",
       "    <tr style=\"text-align: right;\">\n",
       "      <th></th>\n",
       "      <th>UDI</th>\n",
       "      <th>Product ID</th>\n",
       "      <th>Type</th>\n",
       "      <th>Air temperature [K]</th>\n",
       "      <th>Process temperature [K]</th>\n",
       "      <th>Rotational speed [rpm]</th>\n",
       "      <th>Torque [Nm]</th>\n",
       "      <th>Tool wear [min]</th>\n",
       "      <th>Machine failure</th>\n",
       "      <th>TWF</th>\n",
       "      <th>HDF</th>\n",
       "      <th>PWF</th>\n",
       "      <th>OSF</th>\n",
       "      <th>RNF</th>\n",
       "      <th>Encoded Type</th>\n",
       "    </tr>\n",
       "  </thead>\n",
       "  <tbody>\n",
       "    <tr>\n",
       "      <th>0</th>\n",
       "      <td>1</td>\n",
       "      <td>M14860</td>\n",
       "      <td>M</td>\n",
       "      <td>298.1</td>\n",
       "      <td>308.6</td>\n",
       "      <td>1551.0</td>\n",
       "      <td>42.8</td>\n",
       "      <td>0</td>\n",
       "      <td>0</td>\n",
       "      <td>0</td>\n",
       "      <td>0</td>\n",
       "      <td>0</td>\n",
       "      <td>0</td>\n",
       "      <td>0</td>\n",
       "      <td>2</td>\n",
       "    </tr>\n",
       "    <tr>\n",
       "      <th>1</th>\n",
       "      <td>2</td>\n",
       "      <td>L47181</td>\n",
       "      <td>L</td>\n",
       "      <td>298.2</td>\n",
       "      <td>308.7</td>\n",
       "      <td>1408.0</td>\n",
       "      <td>46.3</td>\n",
       "      <td>3</td>\n",
       "      <td>0</td>\n",
       "      <td>0</td>\n",
       "      <td>0</td>\n",
       "      <td>0</td>\n",
       "      <td>0</td>\n",
       "      <td>0</td>\n",
       "      <td>1</td>\n",
       "    </tr>\n",
       "    <tr>\n",
       "      <th>2</th>\n",
       "      <td>3</td>\n",
       "      <td>L47182</td>\n",
       "      <td>L</td>\n",
       "      <td>298.1</td>\n",
       "      <td>308.5</td>\n",
       "      <td>1498.0</td>\n",
       "      <td>49.4</td>\n",
       "      <td>5</td>\n",
       "      <td>0</td>\n",
       "      <td>0</td>\n",
       "      <td>0</td>\n",
       "      <td>0</td>\n",
       "      <td>0</td>\n",
       "      <td>0</td>\n",
       "      <td>1</td>\n",
       "    </tr>\n",
       "    <tr>\n",
       "      <th>3</th>\n",
       "      <td>4</td>\n",
       "      <td>L47183</td>\n",
       "      <td>L</td>\n",
       "      <td>298.2</td>\n",
       "      <td>308.6</td>\n",
       "      <td>1433.0</td>\n",
       "      <td>39.5</td>\n",
       "      <td>7</td>\n",
       "      <td>0</td>\n",
       "      <td>0</td>\n",
       "      <td>0</td>\n",
       "      <td>0</td>\n",
       "      <td>0</td>\n",
       "      <td>0</td>\n",
       "      <td>1</td>\n",
       "    </tr>\n",
       "    <tr>\n",
       "      <th>4</th>\n",
       "      <td>5</td>\n",
       "      <td>L47184</td>\n",
       "      <td>L</td>\n",
       "      <td>298.2</td>\n",
       "      <td>308.7</td>\n",
       "      <td>1408.0</td>\n",
       "      <td>40.0</td>\n",
       "      <td>9</td>\n",
       "      <td>0</td>\n",
       "      <td>0</td>\n",
       "      <td>0</td>\n",
       "      <td>0</td>\n",
       "      <td>0</td>\n",
       "      <td>0</td>\n",
       "      <td>1</td>\n",
       "    </tr>\n",
       "    <tr>\n",
       "      <th>...</th>\n",
       "      <td>...</td>\n",
       "      <td>...</td>\n",
       "      <td>...</td>\n",
       "      <td>...</td>\n",
       "      <td>...</td>\n",
       "      <td>...</td>\n",
       "      <td>...</td>\n",
       "      <td>...</td>\n",
       "      <td>...</td>\n",
       "      <td>...</td>\n",
       "      <td>...</td>\n",
       "      <td>...</td>\n",
       "      <td>...</td>\n",
       "      <td>...</td>\n",
       "      <td>...</td>\n",
       "    </tr>\n",
       "    <tr>\n",
       "      <th>9995</th>\n",
       "      <td>9996</td>\n",
       "      <td>M24855</td>\n",
       "      <td>M</td>\n",
       "      <td>298.8</td>\n",
       "      <td>308.4</td>\n",
       "      <td>1604.0</td>\n",
       "      <td>29.5</td>\n",
       "      <td>14</td>\n",
       "      <td>0</td>\n",
       "      <td>0</td>\n",
       "      <td>0</td>\n",
       "      <td>0</td>\n",
       "      <td>0</td>\n",
       "      <td>0</td>\n",
       "      <td>2</td>\n",
       "    </tr>\n",
       "    <tr>\n",
       "      <th>9996</th>\n",
       "      <td>9997</td>\n",
       "      <td>H39410</td>\n",
       "      <td>H</td>\n",
       "      <td>298.9</td>\n",
       "      <td>308.4</td>\n",
       "      <td>1632.0</td>\n",
       "      <td>31.8</td>\n",
       "      <td>17</td>\n",
       "      <td>0</td>\n",
       "      <td>0</td>\n",
       "      <td>0</td>\n",
       "      <td>0</td>\n",
       "      <td>0</td>\n",
       "      <td>0</td>\n",
       "      <td>0</td>\n",
       "    </tr>\n",
       "    <tr>\n",
       "      <th>9997</th>\n",
       "      <td>9998</td>\n",
       "      <td>M24857</td>\n",
       "      <td>M</td>\n",
       "      <td>299.0</td>\n",
       "      <td>308.6</td>\n",
       "      <td>1645.0</td>\n",
       "      <td>33.4</td>\n",
       "      <td>22</td>\n",
       "      <td>0</td>\n",
       "      <td>0</td>\n",
       "      <td>0</td>\n",
       "      <td>0</td>\n",
       "      <td>0</td>\n",
       "      <td>0</td>\n",
       "      <td>2</td>\n",
       "    </tr>\n",
       "    <tr>\n",
       "      <th>9998</th>\n",
       "      <td>9999</td>\n",
       "      <td>H39412</td>\n",
       "      <td>H</td>\n",
       "      <td>299.0</td>\n",
       "      <td>308.7</td>\n",
       "      <td>1408.0</td>\n",
       "      <td>48.5</td>\n",
       "      <td>25</td>\n",
       "      <td>0</td>\n",
       "      <td>0</td>\n",
       "      <td>0</td>\n",
       "      <td>0</td>\n",
       "      <td>0</td>\n",
       "      <td>0</td>\n",
       "      <td>0</td>\n",
       "    </tr>\n",
       "    <tr>\n",
       "      <th>9999</th>\n",
       "      <td>10000</td>\n",
       "      <td>M24859</td>\n",
       "      <td>M</td>\n",
       "      <td>299.0</td>\n",
       "      <td>308.7</td>\n",
       "      <td>1500.0</td>\n",
       "      <td>40.2</td>\n",
       "      <td>30</td>\n",
       "      <td>0</td>\n",
       "      <td>0</td>\n",
       "      <td>0</td>\n",
       "      <td>0</td>\n",
       "      <td>0</td>\n",
       "      <td>0</td>\n",
       "      <td>2</td>\n",
       "    </tr>\n",
       "  </tbody>\n",
       "</table>\n",
       "<p>10000 rows × 15 columns</p>\n",
       "</div>"
      ],
      "text/plain": [
       "        UDI Product ID Type  Air temperature [K]  Process temperature [K]  \\\n",
       "0         1     M14860    M                298.1                    308.6   \n",
       "1         2     L47181    L                298.2                    308.7   \n",
       "2         3     L47182    L                298.1                    308.5   \n",
       "3         4     L47183    L                298.2                    308.6   \n",
       "4         5     L47184    L                298.2                    308.7   \n",
       "...     ...        ...  ...                  ...                      ...   \n",
       "9995   9996     M24855    M                298.8                    308.4   \n",
       "9996   9997     H39410    H                298.9                    308.4   \n",
       "9997   9998     M24857    M                299.0                    308.6   \n",
       "9998   9999     H39412    H                299.0                    308.7   \n",
       "9999  10000     M24859    M                299.0                    308.7   \n",
       "\n",
       "      Rotational speed [rpm]  Torque [Nm]  Tool wear [min]  Machine failure  \\\n",
       "0                     1551.0         42.8                0                0   \n",
       "1                     1408.0         46.3                3                0   \n",
       "2                     1498.0         49.4                5                0   \n",
       "3                     1433.0         39.5                7                0   \n",
       "4                     1408.0         40.0                9                0   \n",
       "...                      ...          ...              ...              ...   \n",
       "9995                  1604.0         29.5               14                0   \n",
       "9996                  1632.0         31.8               17                0   \n",
       "9997                  1645.0         33.4               22                0   \n",
       "9998                  1408.0         48.5               25                0   \n",
       "9999                  1500.0         40.2               30                0   \n",
       "\n",
       "      TWF  HDF  PWF  OSF  RNF  Encoded Type  \n",
       "0       0    0    0    0    0             2  \n",
       "1       0    0    0    0    0             1  \n",
       "2       0    0    0    0    0             1  \n",
       "3       0    0    0    0    0             1  \n",
       "4       0    0    0    0    0             1  \n",
       "...   ...  ...  ...  ...  ...           ...  \n",
       "9995    0    0    0    0    0             2  \n",
       "9996    0    0    0    0    0             0  \n",
       "9997    0    0    0    0    0             2  \n",
       "9998    0    0    0    0    0             0  \n",
       "9999    0    0    0    0    0             2  \n",
       "\n",
       "[10000 rows x 15 columns]"
      ]
     },
     "execution_count": 17,
     "metadata": {},
     "output_type": "execute_result"
    }
   ],
   "source": [
    "df"
   ]
  },
  {
   "cell_type": "code",
   "execution_count": 18,
   "id": "5723685f",
   "metadata": {},
   "outputs": [],
   "source": [
    "### Dummy Method / One Hot Method\n",
    "df_one_hot = pd.get_dummies(df , columns = [\"Type\"] , prefix = [\"Type\"])\n",
    "df[df_one_hot.columns] = df_one_hot"
   ]
  },
  {
   "cell_type": "code",
   "execution_count": 19,
   "id": "318cbf20",
   "metadata": {},
   "outputs": [
    {
     "name": "stdout",
     "output_type": "stream",
     "text": [
      "<class 'pandas.core.frame.DataFrame'>\n",
      "RangeIndex: 10000 entries, 0 to 9999\n",
      "Data columns (total 18 columns):\n",
      " #   Column                   Non-Null Count  Dtype  \n",
      "---  ------                   --------------  -----  \n",
      " 0   UDI                      10000 non-null  int64  \n",
      " 1   Product ID               10000 non-null  object \n",
      " 2   Type                     10000 non-null  object \n",
      " 3   Air temperature [K]      10000 non-null  float64\n",
      " 4   Process temperature [K]  10000 non-null  float64\n",
      " 5   Rotational speed [rpm]   10000 non-null  float64\n",
      " 6   Torque [Nm]              10000 non-null  float64\n",
      " 7   Tool wear [min]          10000 non-null  int64  \n",
      " 8   Machine failure          10000 non-null  int64  \n",
      " 9   TWF                      10000 non-null  int64  \n",
      " 10  HDF                      10000 non-null  int64  \n",
      " 11  PWF                      10000 non-null  int64  \n",
      " 12  OSF                      10000 non-null  int64  \n",
      " 13  RNF                      10000 non-null  int64  \n",
      " 14  Encoded Type             10000 non-null  int32  \n",
      " 15  Type_H                   10000 non-null  uint8  \n",
      " 16  Type_L                   10000 non-null  uint8  \n",
      " 17  Type_M                   10000 non-null  uint8  \n",
      "dtypes: float64(4), int32(1), int64(8), object(2), uint8(3)\n",
      "memory usage: 1.1+ MB\n"
     ]
    }
   ],
   "source": [
    "df.head(5)\n",
    "df.info()"
   ]
  },
  {
   "cell_type": "code",
   "execution_count": 20,
   "id": "078ed0e6",
   "metadata": {},
   "outputs": [
    {
     "data": {
      "text/plain": [
       "0    9661\n",
       "1     339\n",
       "Name: Machine failure, dtype: int64"
      ]
     },
     "execution_count": 20,
     "metadata": {},
     "output_type": "execute_result"
    }
   ],
   "source": [
    "# fark fazla\n",
    "df[\"Machine failure\"].value_counts()"
   ]
  },
  {
   "cell_type": "code",
   "execution_count": 21,
   "id": "70a1e6a2",
   "metadata": {},
   "outputs": [
    {
     "data": {
      "image/png": "[encoded data removed]",
      "text/plain": [
       "<Figure size 600x600 with 1 Axes>"
      ]
     },
     "metadata": {},
     "output_type": "display_data"
    }
   ],
   "source": [
    "plt.figure(figsize=(6, 6))\n",
    "df[\"Machine failure\"].value_counts().plot(kind='pie', autopct='%1.1f%%')\n",
    "plt.ylabel('')\n",
    "plt.title('Machine failure')\n",
    "plt.show()"
   ]
  },
  {
   "cell_type": "code",
   "execution_count": 22,
   "id": "8c93700f",
   "metadata": {},
   "outputs": [
    {
     "name": "stdout",
     "output_type": "stream",
     "text": [
      "0    28.498525\n",
      "1     1.000000\n",
      "Name: Machine failure, dtype: float64\n"
     ]
    }
   ],
   "source": [
    "## sınıf dengesinin hesaplanması \n",
    "def calculate_class_balance_ratio(df, target_column):\n",
    "    class_counts = df[target_column].value_counts()\n",
    "    min_class_count = class_counts.min()\n",
    "    class_balance_ratio = class_counts / min_class_count\n",
    "    return class_balance_ratio\n",
    "\n",
    "\n",
    "\n",
    "class_balance_ratio = calculate_class_balance_ratio(df, 'Machine failure')\n",
    "print(class_balance_ratio)"
   ]
  },
  {
   "cell_type": "code",
   "execution_count": 23,
   "id": "49387c6c",
   "metadata": {},
   "outputs": [],
   "source": [
    "df = df.select_dtypes(include = ['float64' , 'int64','int32'])\n",
    "df = df.drop('UDI',axis =1)"
   ]
  },
  {
   "cell_type": "code",
   "execution_count": 24,
   "id": "ad18cb26",
   "metadata": {},
   "outputs": [
    {
     "data": {
      "image/png": "[encoded data removed]",
      "text/plain": [
       "<Figure size 800x600 with 1 Axes>"
      ]
     },
     "metadata": {},
     "output_type": "display_data"
    }
   ],
   "source": [
    "## for smooth method\n",
    "import pandas as pd\n",
    "import numpy as np\n",
    "import seaborn as sns\n",
    "import matplotlib.pyplot as plt\n",
    "from imblearn.over_sampling import SMOTE\n",
    "\n",
    "\n",
    "# SMOTE'u kullanarak veriyi yeniden örnekleyelim\n",
    "X = df.drop('Machine failure', axis=1)\n",
    "y = df['Machine failure']\n",
    "smote = SMOTE(sampling_strategy='auto', random_state=42)\n",
    "X_resampled, y_resampled = smote.fit_resample(X, y)\n",
    "\n",
    "# Yeniden örneklenmiş verileri içeren DataFrame oluşturalım\n",
    "df = pd.DataFrame(X_resampled, columns=['Air temperature [K]' , 'Process temperature [K]', 'Rotational speed [rpm]','Torque [Nm]','Encoded Type', 'Tool wear [min]'])\n",
    "df['Machine failure'] = y_resampled\n",
    "\n",
    "# Sınıf dağılımını çubuk grafik ile görselleştirelim (yeniden örneklenmiş veri)\n",
    "plt.figure(figsize=(8, 6))\n",
    "sns.countplot(x='Machine failure', data=df)\n",
    "plt.xlabel('Machine Failure')\n",
    "plt.ylabel('Example Number')\n",
    "plt.title('Resampling Machine Failure (SMOTE)')\n",
    "plt.show()\n"
   ]
  },
  {
   "cell_type": "code",
   "execution_count": 25,
   "id": "58d96712",
   "metadata": {},
   "outputs": [
    {
     "data": {
      "text/html": [
       "<div>\n",
       "<style scoped>\n",
       "    .dataframe tbody tr th:only-of-type {\n",
       "        vertical-align: middle;\n",
       "    }\n",
       "\n",
       "    .dataframe tbody tr th {\n",
       "        vertical-align: top;\n",
       "    }\n",
       "\n",
       "    .dataframe thead th {\n",
       "        text-align: right;\n",
       "    }\n",
       "</style>\n",
       "<table border=\"1\" class=\"dataframe\">\n",
       "  <thead>\n",
       "    <tr style=\"text-align: right;\">\n",
       "      <th></th>\n",
       "      <th>Air temperature [K]</th>\n",
       "      <th>Process temperature [K]</th>\n",
       "      <th>Rotational speed [rpm]</th>\n",
       "      <th>Torque [Nm]</th>\n",
       "      <th>Encoded Type</th>\n",
       "      <th>Tool wear [min]</th>\n",
       "      <th>Machine failure</th>\n",
       "    </tr>\n",
       "  </thead>\n",
       "  <tbody>\n",
       "    <tr>\n",
       "      <th>19317</th>\n",
       "      <td>300.499654</td>\n",
       "      <td>309.900000</td>\n",
       "      <td>1396.994807</td>\n",
       "      <td>45.901385</td>\n",
       "      <td>0</td>\n",
       "      <td>210</td>\n",
       "      <td>1</td>\n",
       "    </tr>\n",
       "    <tr>\n",
       "      <th>19318</th>\n",
       "      <td>298.416432</td>\n",
       "      <td>308.583621</td>\n",
       "      <td>1895.500000</td>\n",
       "      <td>12.800000</td>\n",
       "      <td>2</td>\n",
       "      <td>85</td>\n",
       "      <td>1</td>\n",
       "    </tr>\n",
       "    <tr>\n",
       "      <th>19319</th>\n",
       "      <td>299.552915</td>\n",
       "      <td>311.008801</td>\n",
       "      <td>1717.148538</td>\n",
       "      <td>27.882287</td>\n",
       "      <td>1</td>\n",
       "      <td>221</td>\n",
       "      <td>1</td>\n",
       "    </tr>\n",
       "    <tr>\n",
       "      <th>19320</th>\n",
       "      <td>301.258978</td>\n",
       "      <td>310.516465</td>\n",
       "      <td>1688.631647</td>\n",
       "      <td>30.454791</td>\n",
       "      <td>2</td>\n",
       "      <td>226</td>\n",
       "      <td>1</td>\n",
       "    </tr>\n",
       "    <tr>\n",
       "      <th>19321</th>\n",
       "      <td>302.020253</td>\n",
       "      <td>310.550316</td>\n",
       "      <td>1369.091785</td>\n",
       "      <td>46.797472</td>\n",
       "      <td>2</td>\n",
       "      <td>71</td>\n",
       "      <td>1</td>\n",
       "    </tr>\n",
       "  </tbody>\n",
       "</table>\n",
       "</div>"
      ],
      "text/plain": [
       "       Air temperature [K]  Process temperature [K]  Rotational speed [rpm]  \\\n",
       "19317           300.499654               309.900000             1396.994807   \n",
       "19318           298.416432               308.583621             1895.500000   \n",
       "19319           299.552915               311.008801             1717.148538   \n",
       "19320           301.258978               310.516465             1688.631647   \n",
       "19321           302.020253               310.550316             1369.091785   \n",
       "\n",
       "       Torque [Nm]  Encoded Type  Tool wear [min]  Machine failure  \n",
       "19317    45.901385             0              210                1  \n",
       "19318    12.800000             2               85                1  \n",
       "19319    27.882287             1              221                1  \n",
       "19320    30.454791             2              226                1  \n",
       "19321    46.797472             2               71                1  "
      ]
     },
     "execution_count": 25,
     "metadata": {},
     "output_type": "execute_result"
    }
   ],
   "source": [
    "df.tail()"
   ]
  },
  {
   "cell_type": "code",
   "execution_count": 26,
   "id": "036d3afc",
   "metadata": {},
   "outputs": [],
   "source": [
    "from sklearn.model_selection import train_test_split\n",
    "\n",
    "\n",
    "# Bağımsız değişkenler (X) ve bağımlı değişken (y) olarak veriyi ayıralım\n",
    "X = df.drop('Machine failure', axis=1)\n",
    "y = df['Machine failure']\n",
    "\n",
    "\n",
    "\n",
    "# Veri setini train ve test setlere bölelim (test_size parametresi test setin yüzdesini belirler)\n",
    "X_train, X_test, y_train, y_test = train_test_split(X, y, test_size=0.2, random_state=42)\n",
    "\n",
    "\n",
    "\n",
    "# # Train setini görüntüleyelim\n",
    "# print(\"X_train:\")\n",
    "# print(X_train)\n",
    "# print(\"X_test:\")\n",
    "# print(y_train)\n",
    "\n",
    "# # Test setini görüntüleyelim\n",
    "# print(\"X_test:\")\n",
    "# print(X_test)\n",
    "# print(\"y_test:\")\n",
    "# print(y_test)\n",
    "\n",
    "\n"
   ]
  },
  {
   "cell_type": "code",
   "execution_count": 27,
   "id": "82fbbbb3",
   "metadata": {},
   "outputs": [
    {
     "name": "stdout",
     "output_type": "stream",
     "text": [
      "Eğitim Veri Kümesi X:\n",
      "[[ 0.12705868 -0.03807278  0.49143845 -0.34296053 -0.15409919 -0.62422486]\n",
      " [ 0.87707961  0.28737407 -1.13385013  1.12284667 -2.04450492 -1.4656668 ]\n",
      " [ 1.51000023  1.99523814  0.63520097 -0.62846507  1.73630654 -0.16784957]\n",
      " ...\n",
      " [ 1.20267989  1.61869908  0.0198974   0.1694835  -2.04450492  1.4009405 ]\n",
      " [-2.22906397 -2.44792277  0.35342644 -0.89932834 -2.04450492 -1.3087878 ]\n",
      " [ 1.46802698  1.1895112  -0.65118094  0.47040671 -2.04450492 -0.22489648]]\n",
      "Eğitim Veri Kümesi Y:\n",
      "6455     0\n",
      "11778    1\n",
      "5352     0\n",
      "1215     0\n",
      "18559    1\n",
      "        ..\n",
      "11284    1\n",
      "11964    1\n",
      "5390     0\n",
      "860      0\n",
      "15795    1\n",
      "Name: Machine failure, Length: 15457, dtype: int64\n",
      "\n",
      "Test Veri Kümesi X:\n",
      "[[ 1.10023977  1.61869908  0.42818295 -0.21118921 -0.15409919 -0.9522446 ]\n",
      " [-0.82054775 -1.34602746 -1.2411573   1.63360932 -0.15409919 -0.68127177]\n",
      " [ 1.04901972  1.31746783  0.30167193 -0.44544934  1.73630654 -0.41029894]\n",
      " ...\n",
      " [-1.76808345 -1.84546027  0.12915691 -0.40152556 -0.15409919  0.0175529 ]\n",
      " [-1.15344276 -1.3936134   0.9169755  -0.84808394  1.73630654  0.94456521]\n",
      " [-0.89734247 -1.24299778 -0.06060961 -0.36492242 -0.15409919 -0.82388905]]\n",
      "\n",
      "Test Veri Kümesi Y:\n",
      "5426     0\n",
      "15624    1\n",
      "5527     0\n",
      "8541     0\n",
      "13833    1\n",
      "        ..\n",
      "15626    1\n",
      "8763     0\n",
      "8981     0\n",
      "1584     0\n",
      "2025     0\n",
      "Name: Machine failure, Length: 3865, dtype: int64\n"
     ]
    }
   ],
   "source": [
    "import pandas as pd\n",
    "from sklearn.model_selection import train_test_split\n",
    "from sklearn.preprocessing import StandardScaler\n",
    "# # Özellikleri ve hedef değişkeni ayırın\n",
    "# X = df.drop('Machine failure', axis=1)\n",
    "# y = df['Machine failure']\n",
    "\n",
    "# # Veri kümesini eğitim ve test kümelerine ayırın\n",
    "# X_train, X_test, y_train, y_test = train_test_split(X, y, test_size=0.2, random_state=42)\n",
    "\n",
    "# Initialize StandardScaler\n",
    "scaler = StandardScaler()\n",
    "\n",
    "\n",
    "\n",
    "X_train = scaler.fit_transform(X_train)\n",
    "X_test = scaler.transform(X_test)\n",
    "\n",
    "# Sonuçları gösterin\n",
    "print(\"Eğitim Veri Kümesi X:\")\n",
    "print(X_train)\n",
    "print(\"Eğitim Veri Kümesi Y:\")\n",
    "print(y_train)\n",
    "\n",
    "print(\"\\nTest Veri Kümesi X:\")\n",
    "print(X_test)\n",
    "print(\"\\nTest Veri Kümesi Y:\")\n",
    "print(y_test)"
   ]
  },
  {
   "cell_type": "code",
   "execution_count": 28,
   "id": "8336393b",
   "metadata": {},
   "outputs": [],
   "source": [
    "# from sklearn.ensemble import RandomForestClassifier\n",
    "# from sklearn.metrics import accuracy_score, classification_report, confusion_matrix\n",
    "\n",
    "\n",
    "# # # Bağımsız değişkenler (X) ve bağımlı değişken (y) olarak veriyi ayıralım\n",
    "# # X = df.drop('Machine failure', axis=1)\n",
    "# # y = df['Machine failure']\n",
    "\n",
    "# # # Veri setini train ve test setlere bölelim (test_size parametresi test setin yüzdesini belirler)\n",
    "# # X_train, X_test, y_train, y_test = train_test_split(X, y, test_size=0.2, random_state=42)\n",
    "\n",
    "# # Random Forest modelini oluşturalım ve eğitelim\n",
    "# rf = RandomForestClassifier(n_estimators=100, random_state=42)\n",
    "# rf.fit(X_train, y_train)\n",
    "\n",
    "# # Test setini kullanarak tahmin yapalım\n",
    "# y_pred = rf.predict(X_test)\n",
    "\n",
    "# # Modelin performansını değerlendirelim\n",
    "# accuracy = accuracy_score(y_test, y_pred)\n",
    "# print(\"Model Accuracy:\", accuracy)\n",
    "\n",
    "# # Sınıflandırma raporu ve karışıklık matrisini görüntüleyelim\n",
    "# print(\"Classification Report:\")\n",
    "# print(classification_report(y_test, y_pred))\n",
    "\n",
    "# print(\"Confusion Matrix:\")\n",
    "# print(confusion_matrix(y_test, y_pred))\n"
   ]
  },
  {
   "cell_type": "code",
   "execution_count": 29,
   "id": "6f676d47",
   "metadata": {},
   "outputs": [],
   "source": [
    "# from sklearn.svm import SVC\n",
    "# from sklearn.metrics import accuracy_score, classification_report, confusion_matrix\n",
    "# # from sklearn.model_selection import train_test_split\n",
    "# import pandas as pd\n",
    "\n",
    "\n",
    "\n",
    "# # # Bağımsız değişkenler (X) ve bağımlı değişken (y) olarak veriyi ayıralım\n",
    "# # X = df.drop('Machine failure', axis=1)\n",
    "# # y = df['Machine failure']\n",
    "\n",
    "# # # Veri setini train ve test setlere bölelim (test_size parametresi test setin yüzdesini belirler)\n",
    "# # X_train, X_test, y_train, y_test = train_test_split(X, y, test_size=0.2, random_state=42)\n",
    "\n",
    "# # SVM modelini oluşturalım ve eğitelim\n",
    "# svm = SVC(kernel='linear', C=1.0, random_state=42)\n",
    "# svm.fit(X_train, y_train)\n",
    "\n",
    "# # Test setini kullanarak tahmin yapalım\n",
    "# y_pred = svm.predict(X_test)\n",
    "\n",
    "# # Modelin performansını değerlendirelim\n",
    "# accuracy = accuracy_score(y_test, y_pred)\n",
    "# print(\"Model Accuracy:\", accuracy)\n",
    "\n",
    "# # Sınıflandırma raporu ve karışıklık matrisini görüntüleyelim\n",
    "# print(\"Classification Report:\")\n",
    "# print(classification_report(y_test, y_pred))\n",
    "\n",
    "# print(\"Confusion Matrix:\")\n",
    "# print(confusion_matrix(y_test, y_pred))\n"
   ]
  },
  {
   "cell_type": "code",
   "execution_count": 30,
   "id": "b3410beb",
   "metadata": {},
   "outputs": [],
   "source": [
    "# from sklearn.naive_bayes import GaussianNB\n",
    "# from sklearn.metrics import accuracy_score, classification_report, confusion_matrix\n",
    "# # from sklearn.model_selection import train_test_split\n",
    "# import pandas as pd\n",
    "\n",
    "\n",
    "# # # Bağımsız değişkenler (X) ve bağımlı değişken (y) olarak veriyi ayıralım\n",
    "# # X = df.drop('Machine failure', axis=1)\n",
    "# # y = df['Machine failure']\n",
    "\n",
    "# # # Veri setini train ve test setlere bölelim (test_size parametresi test setin yüzdesini belirler)\n",
    "# # X_train, X_test, y_train, y_test = train_test_split(X, y, test_size=0.2, random_state=42)\n",
    "\n",
    "# # Naive Bayes modelini oluşturalım ve eğitelim\n",
    "# nb = GaussianNB()\n",
    "# nb.fit(X_train, y_train)\n",
    "\n",
    "# # Test setini kullanarak tahmin yapalım\n",
    "# y_pred = nb.predict(X_test)\n",
    "\n",
    "# # Modelin performansını değerlendirelim\n",
    "# accuracy = accuracy_score(y_test, y_pred)\n",
    "# print(\"Model Accuracy:\", accuracy)\n",
    "\n",
    "# # Sınıflandırma raporu ve karışıklık matrisini görüntüleyelim\n",
    "# print(\"Classification Report:\")\n",
    "# print(classification_report(y_test, y_pred))\n",
    "\n",
    "# print(\"Confusion Matrix:\")\n",
    "# print(confusion_matrix(y_test, y_pred))\n"
   ]
  },
  {
   "cell_type": "code",
   "execution_count": 31,
   "id": "4e972265",
   "metadata": {},
   "outputs": [],
   "source": [
    "# import pandas as pd\n",
    "# from sklearn.model_selection import train_test_split\n",
    "# from sklearn.preprocessing import StandardScaler\n",
    "# from keras.models import Sequential\n",
    "# from keras.layers import LSTM, Dense\n",
    "\n",
    "\n",
    "# # LSTM modelini oluşturalım\n",
    "# model = Sequential()\n",
    "# model.add(LSTM(10, input_shape=(X_train.shape[1], 1)))  # LSTM katmanı\n",
    "# model.add(Dense(1, activation='sigmoid'))  # Çıkış katmanı (binary classification için sigmoid aktivasyonu)\n",
    "\n",
    "# # Modeli derleyelim\n",
    "# model.compile(loss='binary_crossentropy', optimizer='adam', metrics=['accuracy'])\n",
    "\n",
    "# # LSTM için giriş verilerini yeniden şekillendirme (reshape)\n",
    "# X_train_reshaped = X_train.reshape((X_train.shape[0], X_train.shape[1], 1))\n",
    "# X_test_reshaped = X_test.reshape((X_test.shape[0], X_test.shape[1], 1))\n",
    "\n",
    "# # Modeli eğitelim\n",
    "# model.fit(X_train_reshaped, y_train, epochs=50, batch_size=32, verbose=1)\n",
    "\n",
    "# # Test seti üzerinde modeli değerlendirelim\n",
    "# loss, accuracy = model.evaluate(X_test_reshaped, y_test)\n",
    "# print(\"Test Loss:\", loss)\n",
    "# print(\"Test Accuracy:\", accuracy)"
   ]
  },
  {
   "cell_type": "code",
   "execution_count": 32,
   "id": "4b220c0b",
   "metadata": {
    "scrolled": false
   },
   "outputs": [],
   "source": [
    "# import pandas as pd\n",
    "# from sklearn.model_selection import train_test_split\n",
    "# from sklearn.preprocessing import StandardScaler\n",
    "# from keras.models import Sequential\n",
    "# from keras.layers import Dense\n",
    "\n",
    "\n",
    "# # CNN modelini oluşturalım\n",
    "# input_dim = X_train.shape[1]\n",
    "\n",
    "# model = Sequential()\n",
    "# model.add(Dense(64, input_dim=input_dim, activation='relu'))  # Giriş katmanı\n",
    "# model.add(Dense(32, activation='relu'))  # Gizli katman\n",
    "# model.add(Dense(1, activation='sigmoid'))  # Çıkış katmanı (binary classification için sigmoid aktivasyonu)\n",
    "\n",
    "# # Modeli derleyelim\n",
    "# model.compile(optimizer='adam', loss='binary_crossentropy', metrics=['accuracy'])\n",
    "\n",
    "# # Modeli eğitelim\n",
    "# model.fit(X_train, y_train, epochs=50, batch_size=32, validation_data=(X_test, y_test), verbose=1)\n",
    "\n",
    "# # Test seti üzerinde modeli değerlendirelim\n",
    "# loss, accuracy = model.evaluate(X_test, y_test)\n",
    "# print(\"Test Loss:\", loss)\n",
    "# print(\"Test Accuracy:\", accuracy)\n"
   ]
  },
  {
   "cell_type": "code",
   "execution_count": 33,
   "id": "3050f7e8",
   "metadata": {},
   "outputs": [],
   "source": [
    "# import pandas as pd\n",
    "# from sklearn.model_selection import train_test_split\n",
    "# from sklearn.preprocessing import StandardScaler\n",
    "# from keras.models import Sequential\n",
    "# from keras.layers import Dense, SimpleRNN"
   ]
  },
  {
   "cell_type": "code",
   "execution_count": 34,
   "id": "dc646f5e",
   "metadata": {},
   "outputs": [],
   "source": [
    "# import pandas as pd\n",
    "# from sklearn.model_selection import train_test_split\n",
    "# from sklearn.preprocessing import StandardScaler\n",
    "# import numpy as np\n",
    "# from keras.models import Sequential\n",
    "# from keras.layers import Dense, SimpleRNN\n",
    "\n",
    "\n",
    "# # RNN modelini oluşturalım\n",
    "# input_dim = X_train.shape[1]\n",
    "# timesteps = 1  # Zaman adımı sayısı (zaman serisi olmadığı için 1 zaman adımı yeterli)\n",
    "\n",
    "# model = Sequential()\n",
    "# model.add(SimpleRNN(32, input_shape=(timesteps, input_dim), activation='relu'))  # RNN katmanı\n",
    "# model.add(Dense(1, activation='sigmoid'))  # Çıkış katmanı (binary classification için sigmoid aktivasyonu)\n",
    "\n",
    "# # Modeli derleyelim\n",
    "# model.compile(optimizer='adam', loss='binary_crossentropy', metrics=['accuracy'])\n",
    "\n",
    "# # Verileri uygun şekilde yeniden boyutlandıralım (RNN için 3B tensörlere ihtiyacımız var)\n",
    "# X_train_reshaped = np.array(X_train).reshape(-1, timesteps, input_dim)\n",
    "# X_test_reshaped = np.array(X_test).reshape(-1, timesteps, input_dim)\n",
    "\n",
    "# # Modeli eğitelim\n",
    "# model.fit(X_train_reshaped, y_train, epochs=50, batch_size=32, validation_data=(X_test_reshaped, y_test), verbose=1)\n",
    "\n",
    "# # Test seti üzerinde modeli değerlendirelim\n",
    "# loss, accuracy = model.evaluate(X_test_reshaped, y_test)\n",
    "# print(\"Test Loss:\", loss)\n",
    "# print(\"Test Accuracy:\", accuracy)\n",
    "\n"
   ]
  },
  {
   "cell_type": "code",
   "execution_count": 35,
   "id": "6d1e5d1c",
   "metadata": {},
   "outputs": [
    {
     "name": "stdout",
     "output_type": "stream",
     "text": [
      "Epoch 1/20\n",
      "484/484 [==============================] - 1s 741us/step - loss: 0.3804 - accuracy: 0.8305\n",
      "Epoch 2/20\n",
      "484/484 [==============================] - 0s 732us/step - loss: 0.2457 - accuracy: 0.9022\n",
      "Epoch 3/20\n",
      "484/484 [==============================] - 0s 733us/step - loss: 0.2108 - accuracy: 0.9220\n",
      "Epoch 4/20\n",
      "484/484 [==============================] - 0s 730us/step - loss: 0.1911 - accuracy: 0.9286\n",
      "Epoch 5/20\n",
      "484/484 [==============================] - 0s 740us/step - loss: 0.1815 - accuracy: 0.9333\n",
      "Epoch 6/20\n",
      "484/484 [==============================] - 0s 732us/step - loss: 0.1712 - accuracy: 0.9363\n",
      "Epoch 7/20\n",
      "484/484 [==============================] - 0s 736us/step - loss: 0.1651 - accuracy: 0.9384\n",
      "Epoch 8/20\n",
      "484/484 [==============================] - 0s 790us/step - loss: 0.1606 - accuracy: 0.9404\n",
      "Epoch 9/20\n",
      "484/484 [==============================] - 0s 828us/step - loss: 0.1571 - accuracy: 0.9415\n",
      "Epoch 10/20\n",
      "484/484 [==============================] - 0s 753us/step - loss: 0.1530 - accuracy: 0.9411\n",
      "Epoch 11/20\n",
      "484/484 [==============================] - 0s 717us/step - loss: 0.1509 - accuracy: 0.9424\n",
      "Epoch 12/20\n",
      "484/484 [==============================] - 0s 648us/step - loss: 0.1465 - accuracy: 0.9440\n",
      "Epoch 13/20\n",
      "484/484 [==============================] - 0s 683us/step - loss: 0.1441 - accuracy: 0.9447\n",
      "Epoch 14/20\n",
      "484/484 [==============================] - 0s 698us/step - loss: 0.1407 - accuracy: 0.9446\n",
      "Epoch 15/20\n",
      "484/484 [==============================] - 0s 731us/step - loss: 0.1386 - accuracy: 0.9469\n",
      "Epoch 16/20\n",
      "484/484 [==============================] - 0s 772us/step - loss: 0.1366 - accuracy: 0.9473\n",
      "Epoch 17/20\n",
      "484/484 [==============================] - 0s 729us/step - loss: 0.1359 - accuracy: 0.9462\n",
      "Epoch 18/20\n",
      "484/484 [==============================] - 0s 747us/step - loss: 0.1335 - accuracy: 0.9481\n",
      "Epoch 19/20\n",
      "484/484 [==============================] - 0s 732us/step - loss: 0.1317 - accuracy: 0.9480\n",
      "Epoch 20/20\n",
      "484/484 [==============================] - 0s 704us/step - loss: 0.1304 - accuracy: 0.9475\n",
      "121/121 [==============================] - 0s 656us/step - loss: 0.1320 - accuracy: 0.9459\n",
      "Test Loss: 0.1319763958454132\n",
      "Test Accuracy: 0.9459249973297119\n"
     ]
    }
   ],
   "source": [
    "\n",
    "\n",
    "import pandas as pd\n",
    "from keras.models import Sequential\n",
    "from keras.layers import Dense\n",
    "from keras.optimizers import Adam\n",
    "from sklearn.metrics import accuracy_score, classification_report, confusion_matrix\n",
    "\n",
    "# FNN modelini oluşturun ve eğitin\n",
    "model = Sequential()\n",
    "model.add(Dense(units=64, activation='relu', input_shape=(X_train.shape[1],)))\n",
    "model.add(Dense(units=32, activation='relu'))\n",
    "model.add(Dense(units=1, activation='sigmoid'))\n",
    "\n",
    "optimizer = Adam(learning_rate=0.001)\n",
    "model.compile(optimizer=optimizer, loss='binary_crossentropy', metrics=['accuracy']);\n",
    "\n",
    "model.fit(X_train, y_train, epochs=20, batch_size=32);\n",
    "\n",
    "# Test seti üzerinde modeli değerlendirelim\n",
    "loss, accuracy = model.evaluate(X_test, y_test)\n",
    "print(\"Test Loss:\", loss)\n",
    "print(\"Test Accuracy:\", accuracy)"
   ]
  },
  {
   "cell_type": "code",
   "execution_count": 36,
   "id": "a3b7f6d1",
   "metadata": {},
   "outputs": [],
   "source": [
    "from tensorflow.keras.models import save_model\n",
    "\n",
    "# Diyelim ki modeliniz 'model' adlı bir değişkende bulunuyor\n",
    "save_model(model, 'my_model.keras')"
   ]
  },
  {
   "cell_type": "code",
   "execution_count": null,
   "id": "cc64d1f5",
   "metadata": {},
   "outputs": [
    {
     "name": "stdout",
     "output_type": "stream",
     "text": [
      " * Serving Flask app '__main__'\n",
      " * Debug mode: off\n"
     ]
    },
    {
     "name": "stderr",
     "output_type": "stream",
     "text": [
      "WARNING: This is a development server. Do not use it in a production deployment. Use a production WSGI server instead.\n",
      " * Running on http://127.0.0.1:5000\n",
      "Press CTRL+C to quit\n",
      "127.0.0.1 - - [03/Aug/2023 10:03:10] \"GET / HTTP/1.1\" 200 -\n"
     ]
    },
    {
     "name": "stdout",
     "output_type": "stream",
     "text": [
      "[[5.600e+01 4.855e+03 4.850e+02 5.482e+03 2.000e+00 5.400e+01]]\n",
      "[[5.600e+01 4.855e+03 4.850e+02 5.482e+03 2.000e+00 5.450e+02]]\n",
      "1/1 [==============================] - 0s 59ms/step\n",
      "1/1 [==============================] - 0s 59ms/step\n"
     ]
    },
    {
     "name": "stderr",
     "output_type": "stream",
     "text": [
      "C:\\Users\\merve\\anaconda3\\Lib\\site-packages\\sklearn\\base.py:439: UserWarning: X does not have valid feature names, but StandardScaler was fitted with feature names\n",
      "  warnings.warn(\n",
      "C:\\Users\\merve\\anaconda3\\Lib\\site-packages\\sklearn\\base.py:439: UserWarning: X does not have valid feature names, but StandardScaler was fitted with feature names\n",
      "  warnings.warn(\n",
      "127.0.0.1 - - [03/Aug/2023 10:03:21] \"POST /predict HTTP/1.1\" 200 -\n",
      "127.0.0.1 - - [03/Aug/2023 10:03:21] \"POST /predict HTTP/1.1\" 200 -\n"
     ]
    },
    {
     "name": "stdout",
     "output_type": "stream",
     "text": [
      "[[0.]]\n",
      "[[0.]]\n"
     ]
    },
    {
     "name": "stderr",
     "output_type": "stream",
     "text": [
      "127.0.0.1 - - [03/Aug/2023 10:03:41] \"POST /predict?Content-Type=application/json HTTP/1.1\" 400 -\n",
      "127.0.0.1 - - [03/Aug/2023 10:03:47] \"POST /predict?Content-Type=application/json HTTP/1.1\" 400 -\n",
      "127.0.0.1 - - [03/Aug/2023 10:03:54] \"POST /predict?Content-Type=application/json HTTP/1.1\" 400 -\n",
      "127.0.0.1 - - [03/Aug/2023 10:04:11] \"POST /predict?Content-Type=application/json HTTP/1.1\" 400 -\n",
      "127.0.0.1 - - [03/Aug/2023 10:04:14] \"POST /predict?Content-Type=application/json HTTP/1.1\" 400 -\n",
      "127.0.0.1 - - [03/Aug/2023 10:04:15] \"POST /predict?Content-Type=application/json HTTP/1.1\" 400 -\n",
      "127.0.0.1 - - [03/Aug/2023 10:04:39] \"POST /predict?Content-Type=application/json HTTP/1.1\" 400 -\n",
      "127.0.0.1 - - [03/Aug/2023 10:04:40] \"POST /predict?Content-Type=application/json HTTP/1.1\" 400 -\n",
      "127.0.0.1 - - [03/Aug/2023 10:04:41] \"POST /predict?Content-Type=application/json HTTP/1.1\" 400 -\n",
      "127.0.0.1 - - [03/Aug/2023 10:04:41] \"POST /predict?Content-Type=application/json HTTP/1.1\" 400 -\n",
      "127.0.0.1 - - [03/Aug/2023 10:05:20] \"POST /predict HTTP/1.1\" 400 -\n",
      "127.0.0.1 - - [03/Aug/2023 10:05:41] \"POST /predict HTTP/1.1\" 400 -\n",
      "127.0.0.1 - - [03/Aug/2023 10:05:47] \"POST /predict HTTP/1.1\" 400 -\n",
      "127.0.0.1 - - [03/Aug/2023 10:05:48] \"POST /predict HTTP/1.1\" 400 -\n",
      "127.0.0.1 - - [03/Aug/2023 10:05:49] \"POST /predict HTTP/1.1\" 400 -\n",
      "127.0.0.1 - - [03/Aug/2023 10:05:51] \"POST /predict HTTP/1.1\" 400 -\n",
      "127.0.0.1 - - [03/Aug/2023 10:09:53] \"POST /predict HTTP/1.1\" 400 -\n",
      "127.0.0.1 - - [03/Aug/2023 10:09:54] \"POST /predict HTTP/1.1\" 400 -\n"
     ]
    },
    {
     "name": "stdout",
     "output_type": "stream",
     "text": [
      "[[2.520e+01 3.002e+02 2.000e+03 5.200e+01 1.000e+00 5.425e+03]]\n",
      "1/1 [==============================] - 0s 15ms/step\n"
     ]
    },
    {
     "name": "stderr",
     "output_type": "stream",
     "text": [
      "C:\\Users\\merve\\anaconda3\\Lib\\site-packages\\sklearn\\base.py:439: UserWarning: X does not have valid feature names, but StandardScaler was fitted with feature names\n",
      "  warnings.warn(\n",
      "127.0.0.1 - - [03/Aug/2023 10:14:05] \"POST /predict HTTP/1.1\" 200 -\n"
     ]
    },
    {
     "name": "stdout",
     "output_type": "stream",
     "text": [
      "[[1.]]\n",
      "[[2.520e+01 3.002e+02 2.000e+03 5.200e+01 1.000e+00 5.425e+03]]\n",
      "1/1 [==============================] - 0s 14ms/step\n"
     ]
    },
    {
     "name": "stderr",
     "output_type": "stream",
     "text": [
      "C:\\Users\\merve\\anaconda3\\Lib\\site-packages\\sklearn\\base.py:439: UserWarning: X does not have valid feature names, but StandardScaler was fitted with feature names\n",
      "  warnings.warn(\n",
      "127.0.0.1 - - [03/Aug/2023 10:14:21] \"POST /predict HTTP/1.1\" 200 -\n"
     ]
    },
    {
     "name": "stdout",
     "output_type": "stream",
     "text": [
      "[[1.]]\n"
     ]
    }
   ],
   "source": [
    "from flask import Flask, render_template, request\n",
    "import numpy as np\n",
    "import pandas as pd\n",
    "from sklearn.preprocessing import StandardScaler\n",
    "from keras.models import load_model\n",
    "\n",
    "\n",
    "app = Flask(__name__)\n",
    "\n",
    "# Modeli yükle\n",
    "model = load_model(\"my_model.keras\")\n",
    "@app.route('/' , methods=['GET'])\n",
    "def index():\n",
    "    return render_template('index.html')\n",
    "\n",
    "@app.route('/predict', methods=['POST'])\n",
    "def predict():\n",
    "    # Kullanıcıdan giriş verilerini alın\n",
    "    air_temp = float(request.form['air_temp'])\n",
    "    process_temp = float(request.form['process_temp'])\n",
    "    rotational_speed = float(request.form['rotational_speed'])\n",
    "    torque = float(request.form['torque'])\n",
    "    encoded_type = float(request.form['encoded_type'])\n",
    "    tool_wear = float(request.form['tool_wear'])\n",
    "    \n",
    "    \n",
    "    input_data = np.array([[air_temp, process_temp, rotational_speed, torque,encoded_type, tool_wear]])\n",
    "    input_df = pd.DataFrame(input_data, columns=['Air temperature [K]', 'Process temperature [K]', 'Rotational speed [rpm]', 'Torque [Nm]','Encoded Type', 'Tool wear [min]'])\n",
    "    arr = np.array(input_df)\n",
    "    print(arr)\n",
    "    # Ölçekleme işlemini gerçekleştirin\n",
    "    input_scaled = scaler.transform(arr)\n",
    "\n",
    "    # Tahmin yap\n",
    "    prediction = model.predict(input_scaled)\n",
    "    print(prediction)\n",
    "    # Tahmin sonucunu göstermek için bir mesaj oluştur\n",
    "    if prediction[0, 0] >= 0.5:\n",
    "        result_message = f\"Machine failure risk is HIGH.\"\n",
    "    else:\n",
    "        result_message = f\"Machine failure risk is LOW.\"\n",
    "    \n",
    "    return render_template('result.html', result_message=result_message)\n",
    "\n",
    "if __name__ == '__main__':\n",
    "    app.run()"
   ]
  },
  {
   "cell_type": "code",
   "execution_count": null,
   "id": "8b3d5d39",
   "metadata": {},
   "outputs": [],
   "source": []
  },
  {
   "cell_type": "code",
   "execution_count": null,
   "id": "75384dca",
   "metadata": {},
   "outputs": [],
   "source": []
  },
  {
   "cell_type": "code",
   "execution_count": null,
   "id": "27ae980a",
   "metadata": {},
   "outputs": [],
   "source": []
  }
 ],
 "metadata": {
  "kernelspec": {
   "display_name": "Python 3 (ipykernel)",
   "language": "python",
   "name": "python3"
  },
  "language_info": {
   "codemirror_mode": {
    "name": "ipython",
    "version": 3
   },
   "file_extension": ".py",
   "mimetype": "text/x-python",
   "name": "python",
   "nbconvert_exporter": "python",
   "pygments_lexer": "ipython3",
   "version": "3.11.3"
  }
 },
 "nbformat": 4,
 "nbformat_minor": 5
}
